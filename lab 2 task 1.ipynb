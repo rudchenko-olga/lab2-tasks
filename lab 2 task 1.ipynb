{
 "cells": [
  {
   "cell_type": "code",
   "execution_count": 1,
   "metadata": {},
   "outputs": [],
   "source": [
    "import pandas as pd"
   ]
  },
  {
   "cell_type": "code",
   "execution_count": 2,
   "metadata": {},
   "outputs": [
    {
     "name": "stdout",
     "output_type": "stream",
     "text": [
      "Age    Pclass\n",
      "0.42   3         1\n",
      "0.67   2         1\n",
      "0.75   3         2\n",
      "0.83   2         2\n",
      "0.92   1         1\n",
      "1.00   2         2\n",
      "       3         5\n",
      "2.00   1         1\n",
      "       2         2\n",
      "       3         7\n",
      "3.00   2         3\n",
      "       3         3\n",
      "4.00   1         1\n",
      "       2         2\n",
      "       3         7\n",
      "5.00   2         1\n",
      "       3         3\n",
      "6.00   2         1\n",
      "       3         2\n",
      "7.00   2         1\n",
      "       3         2\n",
      "8.00   2         2\n",
      "       3         2\n",
      "9.00   3         8\n",
      "10.00  3         2\n",
      "11.00  1         1\n",
      "       3         3\n",
      "12.00  3         1\n",
      "13.00  2         1\n",
      "       3         1\n",
      "                ..\n",
      "52.00  2         2\n",
      "53.00  1         1\n",
      "54.00  1         4\n",
      "       2         4\n",
      "55.00  1         1\n",
      "       2         1\n",
      "55.50  3         1\n",
      "56.00  1         4\n",
      "57.00  2         2\n",
      "58.00  1         5\n",
      "59.00  2         1\n",
      "       3         1\n",
      "60.00  1         3\n",
      "       2         1\n",
      "61.00  1         2\n",
      "       3         1\n",
      "62.00  1         3\n",
      "       2         1\n",
      "63.00  1         1\n",
      "       3         1\n",
      "64.00  1         2\n",
      "65.00  1         2\n",
      "       3         1\n",
      "66.00  2         1\n",
      "70.00  1         1\n",
      "       2         1\n",
      "70.50  3         1\n",
      "71.00  1         2\n",
      "74.00  3         1\n",
      "80.00  1         1\n",
      "Name: PassengerId, Length: 182, dtype: int64\n"
     ]
    }
   ],
   "source": [
    "from pandas import read_csv, DataFrame, Series\n",
    "titanic = read_csv('titanic.csv')\n",
    "print(titanic.groupby(['Age','Pclass'])['PassengerId'].count())"
   ]
  },
  {
   "cell_type": "code",
   "execution_count": 7,
   "metadata": {},
   "outputs": [
    {
     "data": {
      "image/png": "[encoded data removed]",
      "text/plain": [
       "<matplotlib.figure.Figure at 0x7f1ce4a65c88>"
      ]
     },
     "metadata": {},
     "output_type": "display_data"
    }
   ],
   "source": [
    "import numpy as np\n",
    "import matplotlib.pyplot as plt\n",
    "from pandas import read_csv, DataFrame, Series\n",
    "titanic = read_csv('titanic.csv')\n",
    "Age=np.array([ [80,1], [74,1], [71,1], [70,1], [66,1], [65,2], [64,2], [63,1], [62,3],[61,2],[60,3],[59,1],[58,5],[57,2],[56,4],[55,1],[54,4],[53,1],[52,2], [13,1],[12,1],[11,1], [10,2], [9,8],[8,2], [7,1], [6,1],[5,1], [4,1], [3,3]])\n",
    "Column1=0\n",
    "Column2=1\n",
    "BarWidth=1/1.5\n",
    "for i in range( len(Age) ):\n",
    "           plt.bar( Age[ i ] [Column1] , Age [ i ] [Column2] , BarWidth , color=\"blue\")\n"
   ]
  },
  {
   "cell_type": "code",
   "execution_count": 1,
   "metadata": {},
   "outputs": [],
   "source": []
  },
  {
   "cell_type": "code",
   "execution_count": null,
   "metadata": {},
   "outputs": [],
   "source": []
  }
 ],
 "metadata": {
  "kernelspec": {
   "display_name": "Python 3",
   "language": "python",
   "name": "python3"
  },
  "language_info": {
   "codemirror_mode": {
    "name": "ipython",
    "version": 3
   },
   "file_extension": ".py",
   "mimetype": "text/x-python",
   "name": "python",
   "nbconvert_exporter": "python",
   "pygments_lexer": "ipython3",
   "version": "3.7.0"
  }
 },
 "nbformat": 4,
 "nbformat_minor": 2
}
